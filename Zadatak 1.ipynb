{
 "cells": [
  {
   "cell_type": "markdown",
   "id": "dated-given",
   "metadata": {},
   "source": [
    "## Opis zadatka \n",
    "\n",
    "Date su **dve datoteke** koje sadrže podatke o **pristupima predavanjima** održanim u organizaciji Matematičkog fakulteta na Webex platformi (zadatak predstavlja probni zadatak i podaci o pristupima nisu kompletni). Jedna datoteka je kompromitovana nekonzistentnim izmenama, potrebno je otkriti tu datoteku i ne koristiti je u analitici. **Zadatak** je za svaki sastanak, po svakom opisanom datumu, izračunati akumulativno broj prisutnih na sastanku. "
   ]
  },
  {
   "cell_type": "markdown",
   "id": "incorporated-twins",
   "metadata": {},
   "source": [
    "### Učitavanje podataka\n",
    "\n",
    "Obe datoteke su u formatu zarezima odvojenih vrednosti. Za obradu podataka biće korišćeni **pandas**, **numpy**  i **matplotlib** moduli."
   ]
  },
  {
   "cell_type": "code",
   "execution_count": 1,
   "id": "copyrighted-arnold",
   "metadata": {},
   "outputs": [],
   "source": [
    "import pandas as pd \n",
    "import numpy as np"
   ]
  },
  {
   "cell_type": "code",
   "execution_count": 2,
   "id": "covered-gilbert",
   "metadata": {},
   "outputs": [],
   "source": [
    "ucitaj = lambda datoteka: pd.read_csv(datoteka,\n",
    "                                      parse_dates = ['JOIN_DATE','START_TIME','END_TIME'])"
   ]
  },
  {
   "cell_type": "code",
   "execution_count": 3,
   "id": "united-satisfaction",
   "metadata": {},
   "outputs": [],
   "source": [
    "pristupi1 = ucitaj('WebexMeetings1.csv')\n",
    "pristupi2 = ucitaj('WebexMeetings2.csv')"
   ]
  },
  {
   "cell_type": "markdown",
   "id": "australian-citizenship",
   "metadata": {},
   "source": [
    "Oba skupa imaju **22549** vrste, a razlikuju se po broju atributa gde prvi skup sadrži dva atributa više. "
   ]
  },
  {
   "cell_type": "code",
   "execution_count": 4,
   "id": "union-engagement",
   "metadata": {},
   "outputs": [
    {
     "name": "stdout",
     "output_type": "stream",
     "text": [
      "(22549, 12)\n"
     ]
    },
    {
     "data": {
      "text/plain": [
       "MEETING_NUMBER             int64\n",
       "MEETING_NAME              object\n",
       "CONFERENCE_ID            float64\n",
       "USER_NAME                 object\n",
       "EMAIL                     object\n",
       "LOCATION                  object\n",
       "JOIN_DATE         datetime64[ns]\n",
       "START_TIME        datetime64[ns]\n",
       "END_TIME          datetime64[ns]\n",
       "DURATION                   int64\n",
       "OS                        object\n",
       "BROWSER                   object\n",
       "dtype: object"
      ]
     },
     "execution_count": 4,
     "metadata": {},
     "output_type": "execute_result"
    }
   ],
   "source": [
    "print(pristupi1.shape)\n",
    "pristupi1.dtypes"
   ]
  },
  {
   "cell_type": "code",
   "execution_count": 5,
   "id": "electoral-realtor",
   "metadata": {},
   "outputs": [
    {
     "name": "stdout",
     "output_type": "stream",
     "text": [
      "(22549, 12)\n"
     ]
    },
    {
     "data": {
      "text/plain": [
       "MEETING_NUMBER             int64\n",
       "MEETING_NAME              object\n",
       "CONFERENCE_ID            float64\n",
       "OS                        object\n",
       "BROWSER                   object\n",
       "LOCATION                  object\n",
       "JOIN_DATE         datetime64[ns]\n",
       "START_TIME        datetime64[ns]\n",
       "END_TIME          datetime64[ns]\n",
       "DURATION                   int64\n",
       "dtype: object"
      ]
     },
     "execution_count": 5,
     "metadata": {},
     "output_type": "execute_result"
    }
   ],
   "source": [
    "print(pristupi1.shape)\n",
    "pristupi2.dtypes"
   ]
  },
  {
   "cell_type": "markdown",
   "id": "original-gabriel",
   "metadata": {},
   "source": [
    "Uvidom u podatke, uočava se da sledeći tipovi pridruženi atributima nisu odgovarajući:<br>\n",
    "* **MEETING_NUMBER**: označen kao broj, međutim atribut označava nominalne vrednosti pa je tip promenjen u kategorički. <br>\n",
    "* **CONFERENCE_ID**: konverzija izvršena na isti način kao sa MEETING NUMBER. <br>\n",
    "* **JOIN_DATE, START_TIME, END_TIME**: izvršena konverzija u tip datuma (pri učitavanju podataka). <br>"
   ]
  },
  {
   "cell_type": "code",
   "execution_count": 6,
   "id": "white-filing",
   "metadata": {},
   "outputs": [],
   "source": [
    "def izmena_tipova(podaci):\n",
    "    podaci['MEETING_NUMBER'] = podaci['MEETING_NUMBER'].astype(\"category\")\n",
    "    podaci['CONFERENCE_ID'] = podaci['CONFERENCE_ID'].astype(\"category\")"
   ]
  },
  {
   "cell_type": "code",
   "execution_count": 7,
   "id": "grand-proposal",
   "metadata": {},
   "outputs": [],
   "source": [
    "izmena_tipova(pristupi1)\n",
    "izmena_tipova(pristupi2)"
   ]
  },
  {
   "cell_type": "markdown",
   "id": "loved-playing",
   "metadata": {},
   "source": [
    "### Jednakost podataka skupova\n",
    "\n",
    "U jednom skupu podataka nedostaju dva atributa koja su prisutna u drugom, pa se za početak proverava da li su u pitanju isti skupovi podataka i da li ta eliminacija informacija predstavlja nekonzistentnu izmenu."
   ]
  },
  {
   "cell_type": "code",
   "execution_count": 8,
   "id": "banned-carry",
   "metadata": {},
   "outputs": [
    {
     "name": "stdout",
     "output_type": "stream",
     "text": [
      "Skupovi sadrže iste podatke.\n"
     ]
    }
   ],
   "source": [
    "isti = True\n",
    "for kolona in pristupi2.columns: \n",
    "    isti = isti and np.all(pristupi1[kolona] == pristupi2[kolona])\n",
    "\n",
    "if isti:\n",
    "    print('Skupovi sadrže iste podatke.')\n",
    "else:\n",
    "    print('Skupovi ne sadrže iste podatke.')"
   ]
  },
  {
   "cell_type": "markdown",
   "id": "significant-necklace",
   "metadata": {},
   "source": [
    "Ako se ovi skupovi uporede ne uzimajući u obzir kolone USER_NAME i EMAIL, vidi se da oni sadrže iste podatke. Dakle, nekonzistentnom izmenom se smatra brisanje korisnih informacija iz druog skupa podataka i u nastavku će biti korišćen samo kompletniji, prvi skup podataka. "
   ]
  },
  {
   "cell_type": "code",
   "execution_count": 9,
   "id": "northern-marshall",
   "metadata": {},
   "outputs": [],
   "source": [
    "podaci = pristupi1"
   ]
  },
  {
   "cell_type": "markdown",
   "id": "dangerous-fireplace",
   "metadata": {},
   "source": [
    "### Provera konzistentnosti podataka\n",
    "\n",
    "Podaci bi na neki način trebalo da predstavljaju vremensku serije. Međutim, narušena je glavna pretpostavka vremenskih serija da je vreme jednoznačno i da predstavlja indeks. U ovim podacima postoje preklapanja kod svih atributa koji se tiču vremena. <br>\n",
    "Svakako ima smisla proveriti pravilnosti pristupanja Webex sastancima sa aspekta vremena kako bi se uočila potencijalna odstupanja i nekonzistentnosti ukoliko postoje. <br>\n",
    "\n",
    "Analize koje treba izvršiti:\n",
    "1. Proveriti atribute **JOIN_DATE**, **START_TIME**, **END_TIME** kako bi se proverila konzistentnost.\n",
    "2. Proveriti zavisnosti i konzistentnosti:\n",
    "    * conference id --> meeting number\n",
    "    * meeting number --> meeting name\n",
    "    * email --> name \n",
    "    * duration = start time - end time"
   ]
  },
  {
   "cell_type": "markdown",
   "id": "favorite-recommendation",
   "metadata": {},
   "source": [
    "Pregledanjem lokacija pristupa sastancima, može se videti značajan broj zemalja izvan Balkana i to se može smatrati sumnjivim. Međutim, ručnim pregledanjem ovih podataka uočava se da su u pitanju različiti seminari na kojima ućestvuju stručnjaci iz različitih delova sveta, kao i pristupi naših državljana iz drugih država.\n",
    "<br>\n",
    "Ovo može biti korisno u analizi vremena održavanja razgovora, jer postoji dobar razlog za postojanje vremena koje odskače van okvira vremena održavanja predavanja. Ovi podaci pored predavanja obuhvataju i seminare i neformalne između osoba iz različitih delova sveta. "
   ]
  },
  {
   "cell_type": "code",
   "execution_count": 10,
   "id": "coral-canyon",
   "metadata": {},
   "outputs": [
    {
     "data": {
      "text/plain": [
       "array(['Serbia', 'United Kingdom', 'Bosnia and Herzegovina', 'Portugal',\n",
       "       'United States', 'Montenegro', 'Macedonia', 'Australia',\n",
       "       'Switzerland', 'Italy', 'Brazil', 'Croatia', 'Egypt', 'Germany',\n",
       "       'United Arab Emirates', 'Canada', 'France', 'Ukraine',\n",
       "       'Russian Federation', 'Romania', 'Spain', 'Ireland', 'Morocco',\n",
       "       'Bulgaria', 'Belgium', 'Korea', 'Saudi Arabia'], dtype=object)"
      ]
     },
     "execution_count": 10,
     "metadata": {},
     "output_type": "execute_result"
    }
   ],
   "source": [
    "podaci['LOCATION'].unique()"
   ]
  },
  {
   "cell_type": "markdown",
   "id": "cheap-pioneer",
   "metadata": {},
   "source": [
    "Ne zaboravivši da se komunikacija odvija online i da nijedna aktivnost nije nemoguća u aspektu vremena, ipak se vrši provera u vremenskim odstupanjima radi evidencije nekonzistentnih podataka. \n",
    "Organizovanje razgovora na Webexu možemo očekivati najviše u vreme predavanja (najposećeniji sastanci) što označava da sastanci treba da počnu od 8h i da se završe do 21h uveče. Takvih zapisa ima oko 4000, pa je korišćen restriktivniji uslov, da počeci sastanka budu pre 6h, kako bi se dobijeni podaci lakše ručno pregledali. U podacima nije uočeno ništa sumnjivo."
   ]
  },
  {
   "cell_type": "code",
   "execution_count": 11,
   "id": "attended-mitchell",
   "metadata": {},
   "outputs": [],
   "source": [
    "from datetime import time\n",
    "\n",
    "pre_6 = podaci[podaci['START_TIME'].apply(lambda x: x.time()) < time(hour=6, minute=0)]\n",
    "posle_20 = podaci[podaci['END_TIME'].apply(lambda x: x.time()) > time(hour=21, minute=0)]\n",
    "\n",
    "_ = pd.concat([posle_20, pre_6])"
   ]
  },
  {
   "cell_type": "code",
   "execution_count": 12,
   "id": "incident-society",
   "metadata": {},
   "outputs": [],
   "source": [
    "from matplotlib import pyplot as plt"
   ]
  },
  {
   "cell_type": "code",
   "execution_count": 13,
   "id": "confirmed-moscow",
   "metadata": {},
   "outputs": [
    {
     "data": {
      "image/png": "[encoded data removed]",
      "text/plain": [
       "<Figure size 1440x432 with 2 Axes>"
      ]
     },
     "metadata": {
      "needs_background": "light"
     },
     "output_type": "display_data"
    }
   ],
   "source": [
    "fig, (ax1,ax2) = plt.subplots(1,2, figsize=(20,6))\n",
    "\n",
    "ax1.hist(podaci['START_TIME'].sort_values(ascending=True),\n",
    "         bins=150)\n",
    "ax1.tick_params(axis='x', rotation=90 )\n",
    "\n",
    "ax2.hist(podaci['END_TIME'].sort_values(ascending=True),\n",
    "         bins=150,\n",
    "         alpha=0.8)\n",
    "ax2.tick_params(axis='x', rotation=90 )\n",
    "\n",
    "plt.show()"
   ]
  },
  {
   "cell_type": "code",
   "execution_count": 14,
   "id": "united-corruption",
   "metadata": {},
   "outputs": [
    {
     "data": {
      "image/png": "[encoded data removed]",
      "text/plain": [
       "<Figure size 1080x432 with 1 Axes>"
      ]
     },
     "metadata": {
      "needs_background": "light"
     },
     "output_type": "display_data"
    }
   ],
   "source": [
    "fig,ax = plt.subplots(1,1, figsize=(15,6))\n",
    "ax.hist(podaci['START_TIME'].apply(lambda x: x.time().hour),\n",
    "        bins=24,\n",
    "        color='lightgreen')\n",
    "ax.hist(podaci['END_TIME'].apply(lambda x: x.time().hour),\n",
    "        bins=24,\n",
    "        alpha=0.8,\n",
    "        color='lightblue')\n",
    "\n",
    "plt.show()"
   ]
  },
  {
   "cell_type": "markdown",
   "id": "broadband-tower",
   "metadata": {},
   "source": [
    "### Provera zavisnosti\n",
    "\n",
    "Provera postojanja nekonzistentnih izmena u vidu razlike vrednosti atributa koji ti trebali da budu uslovljeni drugim."
   ]
  },
  {
   "cell_type": "code",
   "execution_count": 15,
   "id": "increasing-administrator",
   "metadata": {},
   "outputs": [],
   "source": [
    "def provera_zavisnosti(atr1, atr2):\n",
    "    mapa = ({})\n",
    "    \n",
    "    for index, row in podaci[[atr1,atr2]].iterrows():\n",
    "        kljuc = row[atr1]\n",
    "        vrednost = row[atr2]\n",
    "        \n",
    "        if kljuc in mapa:\n",
    "            if vrednost != mapa[kljuc]:\n",
    "                print(f'Narusena zavisnosti')\n",
    "                print(f'\\tStara vrednost: {kljuc} -> {mapa[kljuc]}')\n",
    "                print(f'\\tNova vrednost: {kljuc} --> {vrednost}')\n",
    "                mapa[kljuc] = vrednost\n",
    "        else:\n",
    "            mapa[kljuc] = vrednost"
   ]
  },
  {
   "cell_type": "code",
   "execution_count": 16,
   "id": "dangerous-plain",
   "metadata": {},
   "outputs": [],
   "source": [
    "provera_zavisnosti('CONFERENCE_ID','MEETING_NUMBER')\n",
    "provera_zavisnosti('MEETING_NUMBER','MEETING_NAME')"
   ]
  },
  {
   "cell_type": "code",
   "execution_count": 17,
   "id": "vertical-antenna",
   "metadata": {},
   "outputs": [
    {
     "data": {
      "text/plain": [
       "True"
      ]
     },
     "execution_count": 17,
     "metadata": {},
     "output_type": "execute_result"
    }
   ],
   "source": [
    "np.all(podaci['START_TIME'] < podaci['END_TIME'])"
   ]
  },
  {
   "cell_type": "code",
   "execution_count": 18,
   "id": "faced-domain",
   "metadata": {
    "scrolled": true
   },
   "outputs": [
    {
     "data": {
      "text/plain": [
       "True"
      ]
     },
     "execution_count": 18,
     "metadata": {},
     "output_type": "execute_result"
    }
   ],
   "source": [
    "razlika = podaci['END_TIME'] - podaci['START_TIME']\n",
    "razlika = razlika.apply(lambda x: np.ceil(x.seconds/60))\n",
    "\n",
    "np.all((razlika == podaci['DURATION']) | (razlika == podaci['DURATION']-1))"
   ]
  },
  {
   "cell_type": "markdown",
   "id": "ongoing-hands",
   "metadata": {},
   "source": [
    "### Zaključak\n",
    "Nisu pronađene dodatne nekonzistentnosti."
   ]
  },
  {
   "cell_type": "markdown",
   "id": "legislative-blood",
   "metadata": {},
   "source": [
    "### Rešenje zadatka\n",
    "Za svaki sastanak, po svakom opisanom datumu, izračunati akumulativno broj prisutnih na sastanku. "
   ]
  },
  {
   "cell_type": "code",
   "execution_count": 19,
   "id": "upset-fraud",
   "metadata": {},
   "outputs": [],
   "source": [
    "prisutnih_na_sastanku = podaci.groupby('JOIN_DATE')['CONFERENCE_ID'].value_counts() \n",
    "prisutnih_na_sastanku = pd.DataFrame(prisutnih_na_sastanku).set_axis(['NUMBER_OF_ATTENDEES'], axis=1)\n",
    "\n",
    "prisutnih_na_sastanku.to_csv('prisutnih_na_sastanku.csv')"
   ]
  }
 ],
 "metadata": {
  "kernelspec": {
   "display_name": "Python 3",
   "language": "python",
   "name": "python3"
  },
  "language_info": {
   "codemirror_mode": {
    "name": "ipython",
    "version": 3
   },
   "file_extension": ".py",
   "mimetype": "text/x-python",
   "name": "python",
   "nbconvert_exporter": "python",
   "pygments_lexer": "ipython3",
   "version": "3.8.10"
  }
 },
 "nbformat": 4,
 "nbformat_minor": 5
}
