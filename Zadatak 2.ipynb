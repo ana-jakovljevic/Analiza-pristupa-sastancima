{
 "cells": [
  {
   "cell_type": "markdown",
   "id": "pacific-buyer",
   "metadata": {},
   "source": [
    "## Opis zadatka\n",
    "\n",
    "Date su **tri datoteke** koje sadrže podatke o **pristupima predavanjima** održanim u organizaciji Matematičkog fakulteta na **Webex platformi**. Podaci u datotekama dati su na mesečnom nivou (novembar, mart, april).\n",
    "U odnosu na datoteke obrađene u prethodnom zadatku ove datoteke imaju dodatne atribute. **Cilj** je, kao i u prethodnom zadatku, po svakom opisanom datumu izračunati akumulativno broj prisutnih na sastanku. S obzirom na dostupnost dodatnih atributa biće razmotreno njihovo korišćenje radi dobijanja detaljnijih informacija."
   ]
  },
  {
   "cell_type": "markdown",
   "id": "prescribed-likelihood",
   "metadata": {},
   "source": [
    "### Učitavanje podataka\n",
    "\n",
    "Podaci su izvorno dati u dva formata: **.csv** (coma separated values) i **.ods** (OpenDocument Spreadsheet Document). Međutim, izvršena je konverzija .ods datoteka u .csv datoteke i na taj način unifikovano je učitavanje. \n",
    "Za obradu podataka biće korišćen **pandas** i **numpy** moduli."
   ]
  },
  {
   "cell_type": "code",
   "execution_count": 1,
   "id": "suitable-flooring",
   "metadata": {},
   "outputs": [],
   "source": [
    "import pandas as pd\n",
    "import numpy as np"
   ]
  },
  {
   "cell_type": "markdown",
   "id": "upper-burton",
   "metadata": {},
   "source": [
    "### Pregled atributa\n",
    "\n",
    "Sve tri datoteke imaju isti skup atributa pa se podaci spajaju u jednu datoteku i obrada podataka će biti vršena nad takvim skupom. Atributa ima **23**, a ukupan broj zapisa u sve tri datoteke je **94085**.\n",
    "\n",
    "* **Meeting number**: broj sastanka (ostaje fiksiran za svako ponavljanje sastanka);\n",
    "* **Meeting name**: naziv sastanka;\n",
    "* **Conference ID**: jedinstveni identifikator sastanka (drugačije se za svako ponavljanje sastanka);\n",
    "* **User name**: korisničko ime učesnika sastanka;\n",
    "* **Email**: email učesnika;\n",
    "* **OS**: operativni sistem koji je koristio učesnik za pristup sastanku;\n",
    "* **Browser**: veb pregledač koji je koristio učesnik za pristup sastanku;\n",
    "* **Location**: lokacija učesnika;\n",
    "* **Join date**: datum sastanka (godina-mesec-dan);\n",
    "* **Start time**: vreme pristupa učesnika sastanku (godina-mesec-dan sat-minut-sekund);\n",
    "* **End time**: vreme napuštanja sastanka (godina-mesec-dan sat-minut-sekund);\n",
    "* **Duration**: vreme provedeno na sastanku izraženo u minutima;\n",
    "* **Client IP**: privatna IP adresa koju je učesnik koristio za pristup sastanku;\n",
    "* **Gateway IP**: javna IP adresa učesnika koja je rutabilna;\n",
    "* **Join meeting time**: vreme od ulaska na link sastanka do učitavanja prozora + vreme od pritiskanje Join dugmeta prozora do konektovanja na sastanak;\n",
    "* **VoIP packet loss**: prosečan gubitak paketa zvučnog zapisa za vreme trajanja sastanka (u procentima);\n",
    "* **VoIP latency**: prosečno kašnjenje zvuka tokom sastanka (u milisekundama);\n",
    "* **TCP percentage**: udeo vremena korišćenja TCP protokola;\n",
    "* **UDP percentage**: udeo vremena korišćenja UDP protokola;\n",
    "* **Cmr**: ako je korisnik pristupio sastanku korišćenjem Webex Room ili Desk Device;\n",
    "* **Sharing**: da li je učesnik podelio svoj ekran tokom sastanka;\n",
    "* **Record**: da li je učesnik pritisnu dugme za snimanje sastanka; \n",
    "* **Video minutes**: koliko dugo je bila uključena kamera učesnika (u minutima)."
   ]
  },
  {
   "cell_type": "code",
   "execution_count": 2,
   "id": "dressed-atlas",
   "metadata": {},
   "outputs": [],
   "source": [
    "kolone = ['Meeting number','Meeting name','Conference ID','User name', 'Email', 'Location', 'Join date', 'Start time', \n",
    "          'End time','Duration','Operating system','Browser','Client IP','Gateway IP','Join meeting time',\n",
    "          'VoIP packet loss','VoIP latency','TCP percentage','UDP percentage', 'Cmr','Sharing','Record','Video minutes']"
   ]
  },
  {
   "cell_type": "code",
   "execution_count": 3,
   "id": "impressed-theme",
   "metadata": {},
   "outputs": [],
   "source": [
    "ucitaj = lambda datoteka: pd.read_csv(datoteka, \n",
    "                                      header=0,\n",
    "                                      names=kolone,\n",
    "                                      low_memory=False)"
   ]
  },
  {
   "cell_type": "code",
   "execution_count": 4,
   "id": "intended-healthcare",
   "metadata": {},
   "outputs": [],
   "source": [
    "podaci_novembar = ucitaj('NovembarWebex Meetings_Attendees_matf.webex.com_2020-11-01_2020-11-30.csv')\n",
    "podaci_mart = ucitaj('Mart2021WebexMeetingsAttendees.csv')\n",
    "podaci_april = ucitaj('April2021_Webex Meetings_Attendees_matf.webex.com_2021-04-01_2021-04-30.csv')"
   ]
  },
  {
   "cell_type": "code",
   "execution_count": 5,
   "id": "modified-afghanistan",
   "metadata": {
    "scrolled": false
   },
   "outputs": [],
   "source": [
    "podaci = pd.concat([podaci_novembar, podaci_mart, podaci_april])\n",
    "podaci.reset_index(drop=True, inplace=True)"
   ]
  },
  {
   "cell_type": "markdown",
   "id": "still-companion",
   "metadata": {},
   "source": [
    "### Odbacivanje atributa\n",
    "\n",
    "Atributi bi mogli biti **grupisani** po tome kakve informacije daju:\n",
    "* O **sastanku** [Meeting number, Meeting name, Conference ID, Join date]\n",
    "* O **učesniku** [User name, Email, Location]\n",
    "* O **konekciji** [Operating system, Browser, Client IP, Gateway IP, VoIP packet loss, VoIP latency, TCP percentage, UDP percentage, Join meeting time]\n",
    "* O **aktivnosti učesnika na sastanku** [Start time, End time, Duration, Cmr, Sharing, Record, Video minutes]\n",
    "\n",
    "Na osnovu zadatka moguće je odmah **odbaciti** grupu atributa koja daje informacije o konekciji i o učesniku."
   ]
  },
  {
   "cell_type": "code",
   "execution_count": 6,
   "id": "quarterly-supervision",
   "metadata": {},
   "outputs": [],
   "source": [
    "podaci.drop(columns = ['User name', 'Email', 'Location', 'Start time', 'End time','Operating system','Browser','Client IP'\n",
    "                       ,'Gateway IP','Join meeting time', 'VoIP packet loss','VoIP latency','TCP percentage','UDP percentage'], \n",
    "            inplace=True)"
   ]
  },
  {
   "cell_type": "markdown",
   "id": "devoted-contrast",
   "metadata": {},
   "source": [
    "### Tipovi atributa \n",
    "\n",
    "Analizom atributa i uvidom u njihove vrednosti mogu se uočiti njihovi **tipovi**, a u skladu sa tim potrebno je izvršiti određene konverzije (inicijalno je većini atributa dodeljen tip *object*).\n",
    "\n",
    "Atributi ***Join date*, *Start time* i *End time*** bi trebalo da nose vremensku oznaku. ***Cmr*, *Sharing* i *Record*** mogu biti posmatrani kao binarni/istinitosni atributi (boolean). Međutim izvršena je drugačija izmena tih atributa kako bi se olakšala njihova upotreba u izveštaju. Vrednost atributa ***Video minutes*** je u 94.6% slučaja nedefinisana vrednost koja zapravo odgovara slučaju da učesnik nije koristio video, pa se nedefinisane vrednosti u skladu sa tim zamenjuju sa vrednošću 0 (nula). Dodat je atribut ***Video***, zasnovan na *Video minutes*, koji predstavlja indikator da li je učesnik uključivao svoju kameru."
   ]
  },
  {
   "cell_type": "code",
   "execution_count": 7,
   "id": "capital-telephone",
   "metadata": {},
   "outputs": [
    {
     "data": {
      "text/plain": [
       "Meeting number      int64\n",
       "Meeting name       object\n",
       "Conference ID     float64\n",
       "Join date          object\n",
       "Duration           object\n",
       "Cmr                object\n",
       "Sharing            object\n",
       "Record             object\n",
       "Video minutes      object\n",
       "dtype: object"
      ]
     },
     "execution_count": 7,
     "metadata": {},
     "output_type": "execute_result"
    }
   ],
   "source": [
    "podaci.dtypes"
   ]
  },
  {
   "cell_type": "code",
   "execution_count": 8,
   "id": "broke-geography",
   "metadata": {},
   "outputs": [],
   "source": [
    "podaci['Video minutes'].fillna(int(0), inplace=True)"
   ]
  },
  {
   "cell_type": "markdown",
   "id": "opponent-civilization",
   "metadata": {},
   "source": [
    "Prilikom pokušaja konverzije *Join date* kolone u datum, otkriven je unos čiji format i redosled atributa nisu odgovarajući i narušavaju strukturu. Taj zapis je odbačen."
   ]
  },
  {
   "cell_type": "code",
   "execution_count": 9,
   "id": "unable-genesis",
   "metadata": {},
   "outputs": [],
   "source": [
    "podaci = podaci[~(podaci['Join date'] == 'Serbia')]"
   ]
  },
  {
   "cell_type": "code",
   "execution_count": 10,
   "id": "comprehensive-maple",
   "metadata": {},
   "outputs": [],
   "source": [
    "with pd.option_context('mode.chained_assignment', None):\n",
    "    \n",
    "    podaci['Join date'] = podaci['Join date'].apply(pd.to_datetime)\n",
    "\n",
    "    podaci['Meeting name'] = podaci['Meeting name'].astype('category')\n",
    "    podaci['Conference ID'] = podaci['Conference ID'].astype('category')\n",
    "\n",
    "    podaci['Duration'] = podaci['Duration'].astype('int')\n",
    "    podaci['Video minutes'] = podaci['Video minutes'].astype('int')\n",
    "\n",
    "    podaci['Cmr'] = np.where(podaci['Cmr'] == 'Y', int(1),int(0))\n",
    "    podaci['Record'] = np.where(podaci['Record'] == 'Y', int(1), int(0))\n",
    "    podaci['Sharing'] = np.where(podaci['Sharing'] == 'Y', int(1), int(0))\n",
    "    podaci['Video'] = np.where(podaci['Video minutes'] > int(0), int(1), int(0))"
   ]
  },
  {
   "cell_type": "markdown",
   "id": "following-maine",
   "metadata": {},
   "source": [
    "## Zadatak:\n",
    "\n",
    "Cilj se ostvaruje istim postupkom koji je korišćen u prvom zadatku. Izdvojeni podaci sadrže **broj učesnika svakog održanog sastanka uređenih po datumima**. Dodatno su izdvojeni **nazivi sastanaka**, njihovo **trajanje** i **broj učesnika koji su podelili ekran** i **broj učesnika koji su uključili video** za svaki održani sastanak. \n",
    "\n",
    "Ideja je bila izdvojiti i podatke o **domaćinu sastanka** na osnovu dužine (*Duration*) prisustva. Zamisao je bila za svaki sastanak izdvojiti najduže prisutnog učesnika. Naravno, takvih učesnika može biti više, pa je ideja bila da se od svih takvih učesnika izdvoji onaj koji u svom mejlu ima *@matf.bg.ac.rs*. Međutim, postoje slučajevi kada to ne funkcioniše, kao na primer kada je organizovan seminar na kom su svi učesnici profesori ili kada ne postoji učesnik koji je profesor ili kada uopšte nije u upotrebi zvanični mejl fakulteta. Zbog toga se ne može sa pouzdanošću zaključiti domaćin i to je izostavljeno."
   ]
  },
  {
   "cell_type": "code",
   "execution_count": 11,
   "id": "sixth-obligation",
   "metadata": {},
   "outputs": [],
   "source": [
    "naziv_sastanka = podaci[['Conference ID','Meeting name']].drop_duplicates().set_index('Conference ID')"
   ]
  },
  {
   "cell_type": "code",
   "execution_count": 12,
   "id": "chronic-crossing",
   "metadata": {},
   "outputs": [],
   "source": [
    "trajanje_sastanka = pd.DataFrame(podaci.groupby('Conference ID', observed=True)['Duration'].max())"
   ]
  },
  {
   "cell_type": "code",
   "execution_count": 13,
   "id": "academic-highway",
   "metadata": {},
   "outputs": [],
   "source": [
    "ekran_kamera = pd.DataFrame(podaci.groupby('Conference ID')[['Sharing','Video']].agg('sum'))"
   ]
  },
  {
   "cell_type": "code",
   "execution_count": 14,
   "id": "fallen-bachelor",
   "metadata": {},
   "outputs": [],
   "source": [
    "prisutnih_na_sastanku = podaci.groupby('Join date')['Conference ID'].value_counts()\n",
    "prisutnih_na_sastanku = pd.DataFrame(prisutnih_na_sastanku).set_axis(['Number of attendees'], axis=1)"
   ]
  },
  {
   "cell_type": "code",
   "execution_count": 15,
   "id": "arabic-nigeria",
   "metadata": {},
   "outputs": [],
   "source": [
    "izdvojeni_podaci = prisutnih_na_sastanku.join(naziv_sastanka, on='Conference ID').join(trajanje_sastanka, on='Conference ID').join(ekran_kamera, on='Conference ID')\n",
    "izdvojeni_podaci = izdvojeni_podaci[['Meeting name','Number of attendees','Sharing', 'Video']]\n",
    "\n",
    "izdvojeni_podaci.to_csv('izdvojeni_podaci.csv')"
   ]
  }
 ],
 "metadata": {
  "kernelspec": {
   "display_name": "Python 3",
   "language": "python",
   "name": "python3"
  },
  "language_info": {
   "codemirror_mode": {
    "name": "ipython",
    "version": 3
   },
   "file_extension": ".py",
   "mimetype": "text/x-python",
   "name": "python",
   "nbconvert_exporter": "python",
   "pygments_lexer": "ipython3",
   "version": "3.8.10"
  }
 },
 "nbformat": 4,
 "nbformat_minor": 5
}
